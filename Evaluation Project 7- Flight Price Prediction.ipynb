{
 "cells": [
  {
   "cell_type": "markdown",
   "id": "5ac8613f",
   "metadata": {},
   "source": [
    "# Problem Statement-\n",
    "Flight ticket prices can be something hard to guess, today we might see a price, check out the price of the same flight tomorrow, it will be a different story. We might have often heard travellers saying that flight ticket prices are so unpredictable. Here you will be provided with prices of flight tickets for various airlines between the months of March and June of 2019 and between various cities.\n",
    "\n",
    "Size of training set: 10683 records\n",
    "\n",
    "Size of test set: 2671 records"
   ]
  },
  {
   "cell_type": "code",
   "execution_count": 156,
   "id": "4c6eef11",
   "metadata": {},
   "outputs": [],
   "source": [
    "#Let's start with importing necessary libraries\n",
    "import pandas as pd\n",
    "import numpy as np\n",
    "from sklearn.preprocessing import StandardScaler\n",
    "import matplotlib.pyplot as plt\n",
    "import seaborn as sns\n",
    "import pickle\n",
    "import warnings\n",
    "warnings.filterwarnings(\"ignore\")"
   ]
  },
  {
   "cell_type": "markdown",
   "id": "79f4ddb6",
   "metadata": {},
   "source": [
    "# Reading the train data"
   ]
  },
  {
   "cell_type": "code",
   "execution_count": 157,
   "id": "94f74acc",
   "metadata": {},
   "outputs": [
    {
     "data": {
      "text/html": [
       "<div>\n",
       "<style scoped>\n",
       "    .dataframe tbody tr th:only-of-type {\n",
       "        vertical-align: middle;\n",
       "    }\n",
       "\n",
       "    .dataframe tbody tr th {\n",
       "        vertical-align: top;\n",
       "    }\n",
       "\n",
       "    .dataframe thead th {\n",
       "        text-align: right;\n",
       "    }\n",
       "</style>\n",
       "<table border=\"1\" class=\"dataframe\">\n",
       "  <thead>\n",
       "    <tr style=\"text-align: right;\">\n",
       "      <th></th>\n",
       "      <th>Airline</th>\n",
       "      <th>Date_of_Journey</th>\n",
       "      <th>Source</th>\n",
       "      <th>Destination</th>\n",
       "      <th>Route</th>\n",
       "      <th>Dep_Time</th>\n",
       "      <th>Arrival_Time</th>\n",
       "      <th>Duration</th>\n",
       "      <th>Total_Stops</th>\n",
       "      <th>Additional_Info</th>\n",
       "      <th>Price</th>\n",
       "    </tr>\n",
       "  </thead>\n",
       "  <tbody>\n",
       "    <tr>\n",
       "      <th>0</th>\n",
       "      <td>IndiGo</td>\n",
       "      <td>24/03/2019</td>\n",
       "      <td>Banglore</td>\n",
       "      <td>New Delhi</td>\n",
       "      <td>BLR → DEL</td>\n",
       "      <td>22:20</td>\n",
       "      <td>01:10 22 Mar</td>\n",
       "      <td>2h 50m</td>\n",
       "      <td>non-stop</td>\n",
       "      <td>No info</td>\n",
       "      <td>3897</td>\n",
       "    </tr>\n",
       "    <tr>\n",
       "      <th>1</th>\n",
       "      <td>Air India</td>\n",
       "      <td>1/05/2019</td>\n",
       "      <td>Kolkata</td>\n",
       "      <td>Banglore</td>\n",
       "      <td>CCU → IXR → BBI → BLR</td>\n",
       "      <td>05:50</td>\n",
       "      <td>13:15</td>\n",
       "      <td>7h 25m</td>\n",
       "      <td>2 stops</td>\n",
       "      <td>No info</td>\n",
       "      <td>7662</td>\n",
       "    </tr>\n",
       "    <tr>\n",
       "      <th>2</th>\n",
       "      <td>Jet Airways</td>\n",
       "      <td>9/06/2019</td>\n",
       "      <td>Delhi</td>\n",
       "      <td>Cochin</td>\n",
       "      <td>DEL → LKO → BOM → COK</td>\n",
       "      <td>09:25</td>\n",
       "      <td>04:25 10 Jun</td>\n",
       "      <td>19h</td>\n",
       "      <td>2 stops</td>\n",
       "      <td>No info</td>\n",
       "      <td>13882</td>\n",
       "    </tr>\n",
       "    <tr>\n",
       "      <th>3</th>\n",
       "      <td>IndiGo</td>\n",
       "      <td>12/05/2019</td>\n",
       "      <td>Kolkata</td>\n",
       "      <td>Banglore</td>\n",
       "      <td>CCU → NAG → BLR</td>\n",
       "      <td>18:05</td>\n",
       "      <td>23:30</td>\n",
       "      <td>5h 25m</td>\n",
       "      <td>1 stop</td>\n",
       "      <td>No info</td>\n",
       "      <td>6218</td>\n",
       "    </tr>\n",
       "    <tr>\n",
       "      <th>4</th>\n",
       "      <td>IndiGo</td>\n",
       "      <td>01/03/2019</td>\n",
       "      <td>Banglore</td>\n",
       "      <td>New Delhi</td>\n",
       "      <td>BLR → NAG → DEL</td>\n",
       "      <td>16:50</td>\n",
       "      <td>21:35</td>\n",
       "      <td>4h 45m</td>\n",
       "      <td>1 stop</td>\n",
       "      <td>No info</td>\n",
       "      <td>13302</td>\n",
       "    </tr>\n",
       "    <tr>\n",
       "      <th>...</th>\n",
       "      <td>...</td>\n",
       "      <td>...</td>\n",
       "      <td>...</td>\n",
       "      <td>...</td>\n",
       "      <td>...</td>\n",
       "      <td>...</td>\n",
       "      <td>...</td>\n",
       "      <td>...</td>\n",
       "      <td>...</td>\n",
       "      <td>...</td>\n",
       "      <td>...</td>\n",
       "    </tr>\n",
       "    <tr>\n",
       "      <th>10678</th>\n",
       "      <td>Air Asia</td>\n",
       "      <td>9/04/2019</td>\n",
       "      <td>Kolkata</td>\n",
       "      <td>Banglore</td>\n",
       "      <td>CCU → BLR</td>\n",
       "      <td>19:55</td>\n",
       "      <td>22:25</td>\n",
       "      <td>2h 30m</td>\n",
       "      <td>non-stop</td>\n",
       "      <td>No info</td>\n",
       "      <td>4107</td>\n",
       "    </tr>\n",
       "    <tr>\n",
       "      <th>10679</th>\n",
       "      <td>Air India</td>\n",
       "      <td>27/04/2019</td>\n",
       "      <td>Kolkata</td>\n",
       "      <td>Banglore</td>\n",
       "      <td>CCU → BLR</td>\n",
       "      <td>20:45</td>\n",
       "      <td>23:20</td>\n",
       "      <td>2h 35m</td>\n",
       "      <td>non-stop</td>\n",
       "      <td>No info</td>\n",
       "      <td>4145</td>\n",
       "    </tr>\n",
       "    <tr>\n",
       "      <th>10680</th>\n",
       "      <td>Jet Airways</td>\n",
       "      <td>27/04/2019</td>\n",
       "      <td>Banglore</td>\n",
       "      <td>Delhi</td>\n",
       "      <td>BLR → DEL</td>\n",
       "      <td>08:20</td>\n",
       "      <td>11:20</td>\n",
       "      <td>3h</td>\n",
       "      <td>non-stop</td>\n",
       "      <td>No info</td>\n",
       "      <td>7229</td>\n",
       "    </tr>\n",
       "    <tr>\n",
       "      <th>10681</th>\n",
       "      <td>Vistara</td>\n",
       "      <td>01/03/2019</td>\n",
       "      <td>Banglore</td>\n",
       "      <td>New Delhi</td>\n",
       "      <td>BLR → DEL</td>\n",
       "      <td>11:30</td>\n",
       "      <td>14:10</td>\n",
       "      <td>2h 40m</td>\n",
       "      <td>non-stop</td>\n",
       "      <td>No info</td>\n",
       "      <td>12648</td>\n",
       "    </tr>\n",
       "    <tr>\n",
       "      <th>10682</th>\n",
       "      <td>Air India</td>\n",
       "      <td>9/05/2019</td>\n",
       "      <td>Delhi</td>\n",
       "      <td>Cochin</td>\n",
       "      <td>DEL → GOI → BOM → COK</td>\n",
       "      <td>10:55</td>\n",
       "      <td>19:15</td>\n",
       "      <td>8h 20m</td>\n",
       "      <td>2 stops</td>\n",
       "      <td>No info</td>\n",
       "      <td>11753</td>\n",
       "    </tr>\n",
       "  </tbody>\n",
       "</table>\n",
       "<p>10683 rows × 11 columns</p>\n",
       "</div>"
      ],
      "text/plain": [
       "           Airline Date_of_Journey    Source Destination  \\\n",
       "0           IndiGo      24/03/2019  Banglore   New Delhi   \n",
       "1        Air India       1/05/2019   Kolkata    Banglore   \n",
       "2      Jet Airways       9/06/2019     Delhi      Cochin   \n",
       "3           IndiGo      12/05/2019   Kolkata    Banglore   \n",
       "4           IndiGo      01/03/2019  Banglore   New Delhi   \n",
       "...            ...             ...       ...         ...   \n",
       "10678     Air Asia       9/04/2019   Kolkata    Banglore   \n",
       "10679    Air India      27/04/2019   Kolkata    Banglore   \n",
       "10680  Jet Airways      27/04/2019  Banglore       Delhi   \n",
       "10681      Vistara      01/03/2019  Banglore   New Delhi   \n",
       "10682    Air India       9/05/2019     Delhi      Cochin   \n",
       "\n",
       "                       Route Dep_Time  Arrival_Time Duration Total_Stops  \\\n",
       "0                  BLR → DEL    22:20  01:10 22 Mar   2h 50m    non-stop   \n",
       "1      CCU → IXR → BBI → BLR    05:50         13:15   7h 25m     2 stops   \n",
       "2      DEL → LKO → BOM → COK    09:25  04:25 10 Jun      19h     2 stops   \n",
       "3            CCU → NAG → BLR    18:05         23:30   5h 25m      1 stop   \n",
       "4            BLR → NAG → DEL    16:50         21:35   4h 45m      1 stop   \n",
       "...                      ...      ...           ...      ...         ...   \n",
       "10678              CCU → BLR    19:55         22:25   2h 30m    non-stop   \n",
       "10679              CCU → BLR    20:45         23:20   2h 35m    non-stop   \n",
       "10680              BLR → DEL    08:20         11:20       3h    non-stop   \n",
       "10681              BLR → DEL    11:30         14:10   2h 40m    non-stop   \n",
       "10682  DEL → GOI → BOM → COK    10:55         19:15   8h 20m     2 stops   \n",
       "\n",
       "      Additional_Info  Price  \n",
       "0             No info   3897  \n",
       "1             No info   7662  \n",
       "2             No info  13882  \n",
       "3             No info   6218  \n",
       "4             No info  13302  \n",
       "...               ...    ...  \n",
       "10678         No info   4107  \n",
       "10679         No info   4145  \n",
       "10680         No info   7229  \n",
       "10681         No info  12648  \n",
       "10682         No info  11753  \n",
       "\n",
       "[10683 rows x 11 columns]"
      ]
     },
     "execution_count": 157,
     "metadata": {},
     "output_type": "execute_result"
    }
   ],
   "source": [
    "#Read csv file and convert into Dataframe\n",
    "data_train=pd.read_excel(r'D:\\DataTrained\\Flight_Ticket_Participant_Datasets\\Data_Train.xlsx')\n",
    "data_train"
   ]
  },
  {
   "cell_type": "markdown",
   "id": "12b1c935",
   "metadata": {},
   "source": [
    "# Observation-\n",
    "\n",
    "The features in the above data set are-\n",
    "\n",
    "- Airline     \n",
    "\n",
    "- Date_of_Journey    \n",
    "\n",
    "- Source \n",
    "\n",
    "- Destination \n",
    "\n",
    "- Route \n",
    "\n",
    "- Dep Time\n",
    "\n",
    "- Arrival_Time\n",
    "\n",
    "- Duration\n",
    "\n",
    "- Total stops\n",
    "\n",
    "- Additional info\n",
    "\n",
    "The label in the given dataset is-\n",
    "\n",
    "- Price"
   ]
  },
  {
   "cell_type": "code",
   "execution_count": 158,
   "id": "12aa4c45",
   "metadata": {},
   "outputs": [
    {
     "data": {
      "text/plain": [
       "(10683, 11)"
      ]
     },
     "execution_count": 158,
     "metadata": {},
     "output_type": "execute_result"
    }
   ],
   "source": [
    "#shape of file\n",
    "data_train.shape"
   ]
  },
  {
   "cell_type": "code",
   "execution_count": 159,
   "id": "fd0f2908",
   "metadata": {},
   "outputs": [
    {
     "data": {
      "text/plain": [
       "Airline            object\n",
       "Date_of_Journey    object\n",
       "Source             object\n",
       "Destination        object\n",
       "Route              object\n",
       "Dep_Time           object\n",
       "Arrival_Time       object\n",
       "Duration           object\n",
       "Total_Stops        object\n",
       "Additional_Info    object\n",
       "Price               int64\n",
       "dtype: object"
      ]
     },
     "execution_count": 159,
     "metadata": {},
     "output_type": "execute_result"
    }
   ],
   "source": [
    "# Checking for data types of the columns\n",
    "data_train.dtypes"
   ]
  },
  {
   "cell_type": "markdown",
   "id": "3f52f318",
   "metadata": {},
   "source": [
    "# \n",
    "As there are object datatypes, we will apply encoding techniques"
   ]
  },
  {
   "cell_type": "code",
   "execution_count": 160,
   "id": "df246c9f",
   "metadata": {},
   "outputs": [
    {
     "data": {
      "text/plain": [
       "Airline            0\n",
       "Date_of_Journey    0\n",
       "Source             0\n",
       "Destination        0\n",
       "Route              1\n",
       "Dep_Time           0\n",
       "Arrival_Time       0\n",
       "Duration           0\n",
       "Total_Stops        1\n",
       "Additional_Info    0\n",
       "Price              0\n",
       "dtype: int64"
      ]
     },
     "execution_count": 160,
     "metadata": {},
     "output_type": "execute_result"
    }
   ],
   "source": [
    "# Checking for null values\n",
    "data_train.isnull().sum()"
   ]
  },
  {
   "cell_type": "code",
   "execution_count": 161,
   "id": "38faeefc",
   "metadata": {},
   "outputs": [],
   "source": [
    "# Checking for null values in object datatype columns\n",
    "\n",
    "for column in data_train:\n",
    "    data_train[column]=data_train[column].replace(\" \",np.nan)"
   ]
  },
  {
   "cell_type": "code",
   "execution_count": 162,
   "id": "17a274ea",
   "metadata": {},
   "outputs": [
    {
     "data": {
      "text/plain": [
       "Airline            0\n",
       "Date_of_Journey    0\n",
       "Source             0\n",
       "Destination        0\n",
       "Route              1\n",
       "Dep_Time           0\n",
       "Arrival_Time       0\n",
       "Duration           0\n",
       "Total_Stops        1\n",
       "Additional_Info    0\n",
       "Price              0\n",
       "dtype: int64"
      ]
     },
     "execution_count": 162,
     "metadata": {},
     "output_type": "execute_result"
    }
   ],
   "source": [
    "# Checking for null values\n",
    "data_train.isnull().sum()"
   ]
  },
  {
   "cell_type": "code",
   "execution_count": 163,
   "id": "65e6aa10",
   "metadata": {},
   "outputs": [],
   "source": [
    "#As it is for one row lets drop the null value row\n",
    "data_train=data_train.dropna()"
   ]
  },
  {
   "cell_type": "code",
   "execution_count": 164,
   "id": "49a5e0da",
   "metadata": {},
   "outputs": [
    {
     "data": {
      "text/plain": [
       "Airline            0\n",
       "Date_of_Journey    0\n",
       "Source             0\n",
       "Destination        0\n",
       "Route              0\n",
       "Dep_Time           0\n",
       "Arrival_Time       0\n",
       "Duration           0\n",
       "Total_Stops        0\n",
       "Additional_Info    0\n",
       "Price              0\n",
       "dtype: int64"
      ]
     },
     "execution_count": 164,
     "metadata": {},
     "output_type": "execute_result"
    }
   ],
   "source": [
    "# Checking for null values\n",
    "data_train.isnull().sum()"
   ]
  },
  {
   "cell_type": "code",
   "execution_count": 165,
   "id": "ebc5ee70",
   "metadata": {},
   "outputs": [
    {
     "data": {
      "text/plain": [
       "(10682, 11)"
      ]
     },
     "execution_count": 165,
     "metadata": {},
     "output_type": "execute_result"
    }
   ],
   "source": [
    "#shape of file\n",
    "data_train.shape"
   ]
  },
  {
   "cell_type": "markdown",
   "id": "fe86fc20",
   "metadata": {},
   "source": [
    "# Visualization of the Data and Encoding object data"
   ]
  },
  {
   "cell_type": "code",
   "execution_count": 166,
   "id": "7d9205c8",
   "metadata": {},
   "outputs": [
    {
     "name": "stdout",
     "output_type": "stream",
     "text": [
      "Jet Airways                          3849\n",
      "IndiGo                               2053\n",
      "Air India                            1751\n",
      "Multiple carriers                    1196\n",
      "SpiceJet                              818\n",
      "Vistara                               479\n",
      "Air Asia                              319\n",
      "GoAir                                 194\n",
      "Multiple carriers Premium economy      13\n",
      "Jet Airways Business                    6\n",
      "Vistara Premium economy                 3\n",
      "Trujet                                  1\n",
      "Name: Airline, dtype: int64\n"
     ]
    },
    {
     "data": {
      "image/png": "[encoded data removed]",
      "text/plain": [
       "<Figure size 1800x720 with 1 Axes>"
      ]
     },
     "metadata": {
      "needs_background": "light"
     },
     "output_type": "display_data"
    }
   ],
   "source": [
    "plt.figure(figsize=(25,10))\n",
    "ax=sns.countplot(x=\"Airline\", data=data_train)\n",
    "print(data_train[\"Airline\"].value_counts())"
   ]
  },
  {
   "cell_type": "markdown",
   "id": "c6a8066d",
   "metadata": {},
   "source": [
    "# \n",
    "3849 are Jet Airways flights, 2053 are Indigo flights, 1751 are Air India flights, 1196 are Multple carriers, 818 are spice jet flights, 479 are vistara flights, 319 are Ais Asia flights, 194 are GoAir flights, 13 are Multiple carriers Premium economy, 6 are Jet Airways Business, 3 are Vistara Premium Economy, 1 are Trujet flight   "
   ]
  },
  {
   "cell_type": "code",
   "execution_count": 167,
   "id": "12f3086d",
   "metadata": {},
   "outputs": [],
   "source": [
    "#Encoding string into numeric data by alphabetical order\n",
    "\n",
    "from sklearn.preprocessing import LabelEncoder\n",
    "enc=LabelEncoder()\n",
    "df=enc.fit_transform(data_train[\"Airline\"])\n",
    "data_train[\"Airline\"]=df"
   ]
  },
  {
   "cell_type": "markdown",
   "id": "40f1a250",
   "metadata": {},
   "source": [
    "# \n",
    "The data is encoded as follows-\n",
    "\n",
    "- 0 - Air Asia\n",
    "- 1 - Air India\n",
    "- 2 - GoAir\n",
    "- 3 - IndiGo\n",
    "- 4 - Jet Airways \n",
    "- 5 - Jet Airways Business\n",
    "- 6 - Multiple carriers\n",
    "- 7 - Multiple carriers Premium economy\n",
    "- 8 - SpiceJet\n",
    "- 9 - Trujet\n",
    "- 10- Vistara \n",
    "- 11- Vistara Premium economy"
   ]
  },
  {
   "cell_type": "code",
   "execution_count": 186,
   "id": "f795b5c1",
   "metadata": {},
   "outputs": [],
   "source": [
    "data_train['Date_of_Journey']=pd.to_datetime(data_train['Date_of_Journey'])"
   ]
  },
  {
   "cell_type": "code",
   "execution_count": 187,
   "id": "a6660add",
   "metadata": {},
   "outputs": [],
   "source": [
    "#Storing date and month in separate column\n",
    "#As the year is 2019, it need not be stored\n",
    "data_train['Date']=data_train['Date_of_Journey'].dt.day\n",
    "data_train['Month']=data_train['Date_of_Journey'].dt.month"
   ]
  },
  {
   "cell_type": "code",
   "execution_count": 188,
   "id": "da62aa34",
   "metadata": {},
   "outputs": [
    {
     "data": {
      "text/html": [
       "<div>\n",
       "<style scoped>\n",
       "    .dataframe tbody tr th:only-of-type {\n",
       "        vertical-align: middle;\n",
       "    }\n",
       "\n",
       "    .dataframe tbody tr th {\n",
       "        vertical-align: top;\n",
       "    }\n",
       "\n",
       "    .dataframe thead th {\n",
       "        text-align: right;\n",
       "    }\n",
       "</style>\n",
       "<table border=\"1\" class=\"dataframe\">\n",
       "  <thead>\n",
       "    <tr style=\"text-align: right;\">\n",
       "      <th></th>\n",
       "      <th>Airline</th>\n",
       "      <th>Date_of_Journey</th>\n",
       "      <th>Source</th>\n",
       "      <th>Destination</th>\n",
       "      <th>Route</th>\n",
       "      <th>Dep_Time</th>\n",
       "      <th>Arrival_Time</th>\n",
       "      <th>Duration</th>\n",
       "      <th>Total_Stops</th>\n",
       "      <th>Additional_Info</th>\n",
       "      <th>Price</th>\n",
       "      <th>Date</th>\n",
       "      <th>Month</th>\n",
       "    </tr>\n",
       "  </thead>\n",
       "  <tbody>\n",
       "    <tr>\n",
       "      <th>0</th>\n",
       "      <td>3</td>\n",
       "      <td>2019-03-24</td>\n",
       "      <td>Banglore</td>\n",
       "      <td>New Delhi</td>\n",
       "      <td>BLR → DEL</td>\n",
       "      <td>22:20</td>\n",
       "      <td>01:10 22 Mar</td>\n",
       "      <td>2h 50m</td>\n",
       "      <td>non-stop</td>\n",
       "      <td>No info</td>\n",
       "      <td>3897</td>\n",
       "      <td>24</td>\n",
       "      <td>3</td>\n",
       "    </tr>\n",
       "    <tr>\n",
       "      <th>1</th>\n",
       "      <td>1</td>\n",
       "      <td>2019-01-05</td>\n",
       "      <td>Kolkata</td>\n",
       "      <td>Banglore</td>\n",
       "      <td>CCU → IXR → BBI → BLR</td>\n",
       "      <td>05:50</td>\n",
       "      <td>13:15</td>\n",
       "      <td>7h 25m</td>\n",
       "      <td>2 stops</td>\n",
       "      <td>No info</td>\n",
       "      <td>7662</td>\n",
       "      <td>5</td>\n",
       "      <td>1</td>\n",
       "    </tr>\n",
       "    <tr>\n",
       "      <th>2</th>\n",
       "      <td>4</td>\n",
       "      <td>2019-09-06</td>\n",
       "      <td>Delhi</td>\n",
       "      <td>Cochin</td>\n",
       "      <td>DEL → LKO → BOM → COK</td>\n",
       "      <td>09:25</td>\n",
       "      <td>04:25 10 Jun</td>\n",
       "      <td>19h</td>\n",
       "      <td>2 stops</td>\n",
       "      <td>No info</td>\n",
       "      <td>13882</td>\n",
       "      <td>6</td>\n",
       "      <td>9</td>\n",
       "    </tr>\n",
       "    <tr>\n",
       "      <th>3</th>\n",
       "      <td>3</td>\n",
       "      <td>2019-12-05</td>\n",
       "      <td>Kolkata</td>\n",
       "      <td>Banglore</td>\n",
       "      <td>CCU → NAG → BLR</td>\n",
       "      <td>18:05</td>\n",
       "      <td>23:30</td>\n",
       "      <td>5h 25m</td>\n",
       "      <td>1 stop</td>\n",
       "      <td>No info</td>\n",
       "      <td>6218</td>\n",
       "      <td>5</td>\n",
       "      <td>12</td>\n",
       "    </tr>\n",
       "    <tr>\n",
       "      <th>4</th>\n",
       "      <td>3</td>\n",
       "      <td>2019-01-03</td>\n",
       "      <td>Banglore</td>\n",
       "      <td>New Delhi</td>\n",
       "      <td>BLR → NAG → DEL</td>\n",
       "      <td>16:50</td>\n",
       "      <td>21:35</td>\n",
       "      <td>4h 45m</td>\n",
       "      <td>1 stop</td>\n",
       "      <td>No info</td>\n",
       "      <td>13302</td>\n",
       "      <td>3</td>\n",
       "      <td>1</td>\n",
       "    </tr>\n",
       "    <tr>\n",
       "      <th>...</th>\n",
       "      <td>...</td>\n",
       "      <td>...</td>\n",
       "      <td>...</td>\n",
       "      <td>...</td>\n",
       "      <td>...</td>\n",
       "      <td>...</td>\n",
       "      <td>...</td>\n",
       "      <td>...</td>\n",
       "      <td>...</td>\n",
       "      <td>...</td>\n",
       "      <td>...</td>\n",
       "      <td>...</td>\n",
       "      <td>...</td>\n",
       "    </tr>\n",
       "    <tr>\n",
       "      <th>10678</th>\n",
       "      <td>0</td>\n",
       "      <td>2019-09-04</td>\n",
       "      <td>Kolkata</td>\n",
       "      <td>Banglore</td>\n",
       "      <td>CCU → BLR</td>\n",
       "      <td>19:55</td>\n",
       "      <td>22:25</td>\n",
       "      <td>2h 30m</td>\n",
       "      <td>non-stop</td>\n",
       "      <td>No info</td>\n",
       "      <td>4107</td>\n",
       "      <td>4</td>\n",
       "      <td>9</td>\n",
       "    </tr>\n",
       "    <tr>\n",
       "      <th>10679</th>\n",
       "      <td>1</td>\n",
       "      <td>2019-04-27</td>\n",
       "      <td>Kolkata</td>\n",
       "      <td>Banglore</td>\n",
       "      <td>CCU → BLR</td>\n",
       "      <td>20:45</td>\n",
       "      <td>23:20</td>\n",
       "      <td>2h 35m</td>\n",
       "      <td>non-stop</td>\n",
       "      <td>No info</td>\n",
       "      <td>4145</td>\n",
       "      <td>27</td>\n",
       "      <td>4</td>\n",
       "    </tr>\n",
       "    <tr>\n",
       "      <th>10680</th>\n",
       "      <td>4</td>\n",
       "      <td>2019-04-27</td>\n",
       "      <td>Banglore</td>\n",
       "      <td>Delhi</td>\n",
       "      <td>BLR → DEL</td>\n",
       "      <td>08:20</td>\n",
       "      <td>11:20</td>\n",
       "      <td>3h</td>\n",
       "      <td>non-stop</td>\n",
       "      <td>No info</td>\n",
       "      <td>7229</td>\n",
       "      <td>27</td>\n",
       "      <td>4</td>\n",
       "    </tr>\n",
       "    <tr>\n",
       "      <th>10681</th>\n",
       "      <td>10</td>\n",
       "      <td>2019-01-03</td>\n",
       "      <td>Banglore</td>\n",
       "      <td>New Delhi</td>\n",
       "      <td>BLR → DEL</td>\n",
       "      <td>11:30</td>\n",
       "      <td>14:10</td>\n",
       "      <td>2h 40m</td>\n",
       "      <td>non-stop</td>\n",
       "      <td>No info</td>\n",
       "      <td>12648</td>\n",
       "      <td>3</td>\n",
       "      <td>1</td>\n",
       "    </tr>\n",
       "    <tr>\n",
       "      <th>10682</th>\n",
       "      <td>1</td>\n",
       "      <td>2019-09-05</td>\n",
       "      <td>Delhi</td>\n",
       "      <td>Cochin</td>\n",
       "      <td>DEL → GOI → BOM → COK</td>\n",
       "      <td>10:55</td>\n",
       "      <td>19:15</td>\n",
       "      <td>8h 20m</td>\n",
       "      <td>2 stops</td>\n",
       "      <td>No info</td>\n",
       "      <td>11753</td>\n",
       "      <td>5</td>\n",
       "      <td>9</td>\n",
       "    </tr>\n",
       "  </tbody>\n",
       "</table>\n",
       "<p>10682 rows × 13 columns</p>\n",
       "</div>"
      ],
      "text/plain": [
       "       Airline Date_of_Journey    Source Destination                  Route  \\\n",
       "0            3      2019-03-24  Banglore   New Delhi              BLR → DEL   \n",
       "1            1      2019-01-05   Kolkata    Banglore  CCU → IXR → BBI → BLR   \n",
       "2            4      2019-09-06     Delhi      Cochin  DEL → LKO → BOM → COK   \n",
       "3            3      2019-12-05   Kolkata    Banglore        CCU → NAG → BLR   \n",
       "4            3      2019-01-03  Banglore   New Delhi        BLR → NAG → DEL   \n",
       "...        ...             ...       ...         ...                    ...   \n",
       "10678        0      2019-09-04   Kolkata    Banglore              CCU → BLR   \n",
       "10679        1      2019-04-27   Kolkata    Banglore              CCU → BLR   \n",
       "10680        4      2019-04-27  Banglore       Delhi              BLR → DEL   \n",
       "10681       10      2019-01-03  Banglore   New Delhi              BLR → DEL   \n",
       "10682        1      2019-09-05     Delhi      Cochin  DEL → GOI → BOM → COK   \n",
       "\n",
       "      Dep_Time  Arrival_Time Duration Total_Stops Additional_Info  Price  \\\n",
       "0        22:20  01:10 22 Mar   2h 50m    non-stop         No info   3897   \n",
       "1        05:50         13:15   7h 25m     2 stops         No info   7662   \n",
       "2        09:25  04:25 10 Jun      19h     2 stops         No info  13882   \n",
       "3        18:05         23:30   5h 25m      1 stop         No info   6218   \n",
       "4        16:50         21:35   4h 45m      1 stop         No info  13302   \n",
       "...        ...           ...      ...         ...             ...    ...   \n",
       "10678    19:55         22:25   2h 30m    non-stop         No info   4107   \n",
       "10679    20:45         23:20   2h 35m    non-stop         No info   4145   \n",
       "10680    08:20         11:20       3h    non-stop         No info   7229   \n",
       "10681    11:30         14:10   2h 40m    non-stop         No info  12648   \n",
       "10682    10:55         19:15   8h 20m     2 stops         No info  11753   \n",
       "\n",
       "       Date  Month  \n",
       "0        24      3  \n",
       "1         5      1  \n",
       "2         6      9  \n",
       "3         5     12  \n",
       "4         3      1  \n",
       "...     ...    ...  \n",
       "10678     4      9  \n",
       "10679    27      4  \n",
       "10680    27      4  \n",
       "10681     3      1  \n",
       "10682     5      9  \n",
       "\n",
       "[10682 rows x 13 columns]"
      ]
     },
     "execution_count": 188,
     "metadata": {},
     "output_type": "execute_result"
    }
   ],
   "source": [
    "data_train"
   ]
  },
  {
   "cell_type": "code",
   "execution_count": null,
   "id": "bcd47bc5",
   "metadata": {},
   "outputs": [],
   "source": [
    "#As the date of journey is stored in date and month columns, date of journey is deleted\n",
    "data_train=data_train.drop(columns=[\"Date_of_Journey\"])"
   ]
  },
  {
   "cell_type": "code",
   "execution_count": null,
   "id": "fd5c5727",
   "metadata": {},
   "outputs": [],
   "source": [
    "data_train.Date.plot(kind='hist')"
   ]
  },
  {
   "cell_type": "markdown",
   "id": "8fb81b31",
   "metadata": {},
   "source": [
    "# \n",
    "The maximum flights are operated in the 1st week of the month"
   ]
  },
  {
   "cell_type": "code",
   "execution_count": null,
   "id": "f9b3e856",
   "metadata": {},
   "outputs": [],
   "source": [
    "plt.figure(figsize=(25,10))\n",
    "ax=sns.countplot(x=\"Source\", data=data_train)\n",
    "print(data_train[\"Source\"].value_counts())"
   ]
  },
  {
   "cell_type": "markdown",
   "id": "1d5a81d8",
   "metadata": {},
   "source": [
    "# \n",
    "4536 flights fly from Delhi, 2871 flights fly from Kolkata, 2197 flights from Banglore, 697 flights fly from Mumbai and 381 flights fly from Chennai"
   ]
  },
  {
   "cell_type": "code",
   "execution_count": null,
   "id": "23fbe867",
   "metadata": {},
   "outputs": [],
   "source": [
    "#Encoding string into numeric data by alphabetical order\n",
    "\n",
    "from sklearn.preprocessing import LabelEncoder\n",
    "enc=LabelEncoder()\n",
    "df=enc.fit_transform(data_train[\"Source\"])\n",
    "data_train[\"Source\"]=df"
   ]
  },
  {
   "cell_type": "markdown",
   "id": "d0f383a4",
   "metadata": {},
   "source": [
    "# \n",
    "The data is encoded as follows-\n",
    "\n",
    "- 0 - Banglore\n",
    "- 1 - Chennai\n",
    "- 2 - Delhi\n",
    "- 3 - Kolkata\n",
    "- 4 - Mumbai"
   ]
  },
  {
   "cell_type": "code",
   "execution_count": null,
   "id": "ac0a0b70",
   "metadata": {},
   "outputs": [],
   "source": [
    "plt.figure(figsize=(25,10))\n",
    "ax=sns.countplot(x=\"Destination\", data=data_train)\n",
    "print(data_train[\"Destination\"].value_counts())"
   ]
  },
  {
   "cell_type": "markdown",
   "id": "5c6d3bc7",
   "metadata": {},
   "source": [
    "# \n",
    "4536 flights are flying to Cochin, 2871 flights are flying to Banglore, 1265 flights are flying to Delhi, 932 flights fly to New Delhi, 697 flights fly to Hyderabad, 381 flights fly to Kolkata       "
   ]
  },
  {
   "cell_type": "code",
   "execution_count": null,
   "id": "f6139320",
   "metadata": {},
   "outputs": [],
   "source": [
    "#Encoding string into numeric data by alphabetical order\n",
    "\n",
    "from sklearn.preprocessing import LabelEncoder\n",
    "enc=LabelEncoder()\n",
    "df=enc.fit_transform(data_train[\"Destination\"])\n",
    "data_train[\"Destination\"]=df"
   ]
  },
  {
   "cell_type": "markdown",
   "id": "e8343dcf",
   "metadata": {},
   "source": [
    "\n",
    "The data is encoded as follows-\n",
    "\n",
    "- 0 - Banglore\n",
    "- 1 - Cochin\n",
    "- 2 - Delhi\n",
    "- 3 - Hyderabad\n",
    "- 4 - Kolkata\n",
    "- 5 - New Delhi"
   ]
  },
  {
   "cell_type": "code",
   "execution_count": null,
   "id": "e2299319",
   "metadata": {},
   "outputs": [],
   "source": [
    "#Replace the values of destination, so that source and destination have different numbers\n",
    "data_train[\"Destination\"]=data_train[\"Destination\"].replace(0,10)\n",
    "data_train[\"Destination\"]=data_train[\"Destination\"].replace(1,11)\n",
    "data_train[\"Destination\"]=data_train[\"Destination\"].replace(2,12)\n",
    "data_train[\"Destination\"]=data_train[\"Destination\"].replace(3,13)\n",
    "data_train[\"Destination\"]=data_train[\"Destination\"].replace(4,14)\n",
    "data_train[\"Destination\"]=data_train[\"Destination\"].replace(5,15)"
   ]
  },
  {
   "cell_type": "markdown",
   "id": "e96f7ec0",
   "metadata": {},
   "source": [
    "# \n",
    "The data is now encoded as follows-\n",
    "\n",
    "- 10 - Banglore\n",
    "- 11 - Cochin\n",
    "- 12 - Delhi\n",
    "- 13 - Hyderabad\n",
    "- 14 - Kolkata\n",
    "- 15 - New Delhi"
   ]
  },
  {
   "cell_type": "code",
   "execution_count": null,
   "id": "b1595c4a",
   "metadata": {},
   "outputs": [],
   "source": []
  }
 ],
 "metadata": {
  "kernelspec": {
   "display_name": "Python 3 (ipykernel)",
   "language": "python",
   "name": "python3"
  },
  "language_info": {
   "codemirror_mode": {
    "name": "ipython",
    "version": 3
   },
   "file_extension": ".py",
   "mimetype": "text/x-python",
   "name": "python",
   "nbconvert_exporter": "python",
   "pygments_lexer": "ipython3",
   "version": "3.9.7"
  }
 },
 "nbformat": 4,
 "nbformat_minor": 5
}
